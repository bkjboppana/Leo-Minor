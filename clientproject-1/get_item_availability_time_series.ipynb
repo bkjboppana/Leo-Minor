{
 "cells": [
  {
   "cell_type": "code",
   "execution_count": 1,
   "metadata": {},
   "outputs": [],
   "source": [
    "import numpy as np\n",
    "import pandas as pd\n",
    "from bs4 import BeautifulSoup\n",
    "import urllib.request as urllib\n",
    "from requests import get\n",
    "import matplotlib.pyplot as plt\n",
    "from dateutil import parser\n",
    "%matplotlib inline"
   ]
  },
  {
   "cell_type": "code",
   "execution_count": 41,
   "metadata": {},
   "outputs": [],
   "source": [
    "from apscheduler.schedulers.blocking import BlockingScheduler\n",
    "from datetime import datetime, date\n",
    "import os, glob"
   ]
  },
  {
   "cell_type": "code",
   "execution_count": 4,
   "metadata": {},
   "outputs": [],
   "source": [
    "sched = BlockingScheduler()# call the BlockingScheduler class"
   ]
  },
  {
   "cell_type": "markdown",
   "metadata": {},
   "source": [
    "Now we will define the job that needs to be run periodically. In this case the job will consist of going through a list of urls from which it will extract whether an item which is displayed online for sale is available or not. The scheduler should open a csv file and input the availability of the item. "
   ]
  },
  {
   "cell_type": "code",
   "execution_count": 5,
   "metadata": {},
   "outputs": [],
   "source": [
    "#get the list of urls\n",
    "#Given a base url, this item will keep extracting URLs from the search result page.\n",
    "base_url = 'https://www.ebay.com/b/Camping-Hiking-Sleeping-Gear/181403/bn_7327730?_pgn='\n",
    "## this function returns a list of links correspoding to an item on sale in ebay\n",
    "def get_item_links(base_url, uppercut = 800000):\n",
    "    links = []\n",
    "    count = 1\n",
    "    while len(links)<uppercut:\n",
    "        url = base_url+str(count)\n",
    "        response = get(url)\n",
    "        print(url)\n",
    "        html_soup = BeautifulSoup(response.text, 'html.parser')\n",
    "        item_page_links = html_soup.find_all('div', class_ = \"s-item__wrapper clearfix\")\n",
    "        for link in item_page_links:\n",
    "            links.append(link.a.attrs['href'])\n",
    "        count+=1\n",
    "    return links[:uppercut]\n",
    "    \n",
    "\n",
    "#print(response.text[500:1000])"
   ]
  },
  {
   "cell_type": "code",
   "execution_count": 6,
   "metadata": {},
   "outputs": [
    {
     "name": "stdout",
     "output_type": "stream",
     "text": [
      "https://www.ebay.com/b/Camping-Hiking-Sleeping-Gear/181403/bn_7327730?_pgn=1\n"
     ]
    }
   ],
   "source": [
    "#here we will call the function to get the desired number of links, in order to keep things simple we will just get\n",
    "#5 links\n",
    "item_urls = get_item_links(base_url, uppercut=5)"
   ]
  },
  {
   "cell_type": "code",
   "execution_count": 7,
   "metadata": {},
   "outputs": [
    {
     "data": {
      "text/plain": [
       "['https://www.ebay.com/itm/Inflatable-Air-Sofa-Bed-Lazy-Sleeping-Camping-Bag-Beach-Hangout-Couch-Windbed/292566375653?epid=715012867&hash=item441e509ce5:m:mSeLLE_HXu8OCpTWY6uyAZA&var=591377547355',\n",
       " 'https://www.ebay.com/itm/Double-Self-Inflating-Camping-Roll-Mat-Camp-Bed-Inflatable-Sleeping-Mattress/253747098737?hash=item3b14817471:g:brEAAOSwZrdbRxom',\n",
       " 'https://www.ebay.com/itm/New-Double-Outdoor-Person-Travel-Camping-Hanging-Hammock-Bed-Wi-Mosquito-Net-Set/253639619614?hash=item3b0e19741e:m:mIHN9kGpsMWHPShA5HQi3uw&var=552873885342',\n",
       " 'https://www.ebay.com/itm/Double-Sideds-Inflatable-Sleep-Pillow-Mat-Cushion-For-Camping-Picnic-Travel-Soft/132279480734?hash=item1ecc78b19e:m:m0v5IfPKuZEtGejjRdB1hww&var=431607141476',\n",
       " 'https://www.ebay.com/itm/Ultralight-Compact-Folding-Aluminium-Alloy-Camping-Tent-Cot-Bed-with-Carry-Bag/123248048822?hash=item1cb227fab6:g:kEQAAOSwLYRbSFff']"
      ]
     },
     "execution_count": 7,
     "metadata": {},
     "output_type": "execute_result"
    }
   ],
   "source": []
  },
  {
   "cell_type": "markdown",
   "metadata": {},
   "source": [
    "Here we will define the job, the job (which also most likely is a function) itself might depend on some other funtions"
   ]
  },
  {
   "cell_type": "code",
   "execution_count": 9,
   "metadata": {},
   "outputs": [],
   "source": [
    "def sale_rate_tables(table, table_no = 5):#function required for getting availability of items\n",
    "    rows =  table[table_no].find_all('tr')\n",
    "    sold_quantity = []\n",
    "    date_of_sale = []\n",
    "    for i in range(1, len(rows)-2):\n",
    "        quantity = np.int(rows[i].find_all('td')[-3].text)\n",
    "        sold_quantity.append(quantity)\n",
    "        date_sale = parser.parse(rows[i].find_all('td')[-2].text)\n",
    "        date_of_sale.append(date_sale)\n",
    "\n",
    "    sale_duration = (date_of_sale[0]-date_of_sale[-1]).days\n",
    "    total_quantity_sold = np.array(sold_quantity).sum()\n",
    "    print(total_quantity_sold, sale_duration)\n",
    "    sale_rate = total_quantity_sold/sale_duration\n",
    "    return sale_rate\n",
    "    "
   ]
  },
  {
   "cell_type": "code",
   "execution_count": 49,
   "metadata": {},
   "outputs": [],
   "source": [
    "def job_get_item_details(url_list):\n",
    "    sellerfeedback = []\n",
    "    item_available = []\n",
    "    price = []\n",
    "    item_currency = []\n",
    "    item_description = []\n",
    "    keyword = []\n",
    "    seller_name = []\n",
    "    currency = []\n",
    "    quantity_available = []\n",
    "    for url in url_list:\n",
    "        print(url)\n",
    "        response = get(url)\n",
    "        first_soup = BeautifulSoup(response.text, 'html.parser')# get the html soup\n",
    "        heading = first_soup.find_all('h1', class_ = \"it-ttl\")#find the item description\n",
    "        seller = first_soup.find_all('span', class_ = \"mbg-nw\")#find the seller name\n",
    "        seller_feedback = first_soup.find_all('span', class_ = \"mbg-l\")#get the seller feedback\n",
    "        item_description.append(heading[0].text[16:])\n",
    "        seller_name.append(seller[0].text)\n",
    "        sellerfeedback.append(np.int(seller_feedback[0].text[15:-2]))\n",
    "        item = first_soup.find_all('span', itemprop = \"name\")\n",
    "        available_quantity = first_soup.find_all('span', id = \"qtySubTxt\")\n",
    "        retail_price = first_soup.find_all('span', id = \"prcIsum\")#find the retail price\n",
    "        discount_price = first_soup.find_all('span', id = \"mm-saleDscPrc\")\n",
    "        try:#append retail price, look for error\n",
    "            y=np.float(retail_price[0].attrs['content'])\n",
    "            price.append(y)\n",
    "            print('The price is {}'.format(y))\n",
    "        except:#else look for discounted price if any\n",
    "            z  = discount_price[0].text\n",
    "            m = np.float(''.join(i for i in z if (i.isdigit() or i=='.')))\n",
    "            price.append(m) \n",
    "            print('The discounted price is {}'.format(m))\n",
    "        try:#append currency \n",
    "            price_string = retail_price[0].text.replace('.','')\n",
    "            currency_1 = ''.join([i for i in price_string if not i.isdigit()])\n",
    "            currency.append(currency_1)\n",
    "            print('The currency is {}'.format(currency_1))\n",
    "        except:#append currency for discounted price\n",
    "            price_string = discount_price[0].text.replace('.','')\n",
    "            currency_1 = ''.join([i for i in price_string if not i.isdigit()])\n",
    "            currency.append(currency_1)\n",
    "            print('The currency is {}'.format(currency_1))\n",
    "        try:\n",
    "            x = available_quantity[0].text\n",
    "            quantity = [int(s) for s in x.split() if s.isdigit()][0]\n",
    "            quantity_available.append(quantity)\n",
    "            if quantity>0:\n",
    "                item_available.append(1)\n",
    "            else:\n",
    "                item_available.append(0)\n",
    "            print('Available quantity is : {}'.format(quantity))\n",
    "        except:\n",
    "            quantity_available.append(np.nan)\n",
    "            item_available.append(0)\n",
    "        try:\n",
    "            keyword.append(item[4].text)#get the keyword\n",
    "            print(item[4].text)\n",
    "        except:\n",
    "            if len(item)>0:\n",
    "                keyword.append(item[-2].text)\n",
    "                print(item[-2].text)\n",
    "            else:\n",
    "                keyword.append('Not available')\n",
    "                print('Key word not available')\n",
    "        \n",
    "    filename = 'item_availability.csv'\n",
    "    dfitems = {'Keyword':keyword, 'seller name':seller_name,\n",
    "               'Price':price, 'Currency':currency, str(date.today()):item_available}\n",
    "    return pd.DataFrame(dfitems, columns=dfitems.keys())"
   ]
  },
  {
   "cell_type": "code",
   "execution_count": 50,
   "metadata": {},
   "outputs": [
    {
     "name": "stdout",
     "output_type": "stream",
     "text": [
      "https://www.ebay.com/itm/Inflatable-Air-Sofa-Bed-Lazy-Sleeping-Camping-Bag-Beach-Hangout-Couch-Windbed/292566375653?epid=715012867&hash=item441e509ce5:m:mSeLLE_HXu8OCpTWY6uyAZA&var=591377547355\n",
      "The discounted price is 8.99\n",
      "The currency is US $\n",
      "Available quantity is : 10\n",
      "Sleeping Bags\n",
      "https://www.ebay.com/itm/Double-Self-Inflating-Camping-Roll-Mat-Camp-Bed-Inflatable-Sleeping-Mattress/253747098737?hash=item3b14817471:g:brEAAOSwZrdbRxom\n",
      "The price is 4.99\n",
      "The currency is US $\n",
      "Available quantity is : 10\n",
      "Mattresses & Pads\n",
      "https://www.ebay.com/itm/New-Double-Outdoor-Person-Travel-Camping-Hanging-Hammock-Bed-Wi-Mosquito-Net-Set/253639619614?hash=item3b0e19741e:m:mIHN9kGpsMWHPShA5HQi3uw&var=552873885342\n",
      "The price is 4.99\n",
      "The currency is US $\n",
      "Available quantity is : 129\n",
      "Sporting Goods\n",
      "https://www.ebay.com/itm/Double-Sideds-Inflatable-Sleep-Pillow-Mat-Cushion-For-Camping-Picnic-Travel-Soft/132279480734?hash=item1ecc78b19e:m:m0v5IfPKuZEtGejjRdB1hww&var=431607141476\n",
      "The price is 1.49\n",
      "The currency is US $\n",
      "Available quantity is : 10\n",
      "Mattresses & Pads\n",
      "https://www.ebay.com/itm/Ultralight-Compact-Folding-Aluminium-Alloy-Camping-Tent-Cot-Bed-with-Carry-Bag/123248048822?hash=item1cb227fab6:g:kEQAAOSwLYRbSFff\n",
      "The price is 14.99\n",
      "The currency is C $\n",
      "Available quantity is : 10\n",
      "Cots\n"
     ]
    }
   ],
   "source": [
    "item_availability = job_get_item_details(item_urls)"
   ]
  },
  {
   "cell_type": "code",
   "execution_count": 51,
   "metadata": {},
   "outputs": [
    {
     "data": {
      "text/html": [
       "<div>\n",
       "<style scoped>\n",
       "    .dataframe tbody tr th:only-of-type {\n",
       "        vertical-align: middle;\n",
       "    }\n",
       "\n",
       "    .dataframe tbody tr th {\n",
       "        vertical-align: top;\n",
       "    }\n",
       "\n",
       "    .dataframe thead th {\n",
       "        text-align: right;\n",
       "    }\n",
       "</style>\n",
       "<table border=\"1\" class=\"dataframe\">\n",
       "  <thead>\n",
       "    <tr style=\"text-align: right;\">\n",
       "      <th></th>\n",
       "      <th>Keyword</th>\n",
       "      <th>seller name</th>\n",
       "      <th>Price</th>\n",
       "      <th>Currency</th>\n",
       "      <th>2018-07-15</th>\n",
       "    </tr>\n",
       "  </thead>\n",
       "  <tbody>\n",
       "    <tr>\n",
       "      <th>0</th>\n",
       "      <td>Sleeping Bags</td>\n",
       "      <td>xianghuietchco.ltd</td>\n",
       "      <td>8.99</td>\n",
       "      <td>US $</td>\n",
       "      <td>1</td>\n",
       "    </tr>\n",
       "    <tr>\n",
       "      <th>1</th>\n",
       "      <td>Mattresses &amp; Pads</td>\n",
       "      <td>klcollins23</td>\n",
       "      <td>4.99</td>\n",
       "      <td>US $</td>\n",
       "      <td>1</td>\n",
       "    </tr>\n",
       "    <tr>\n",
       "      <th>2</th>\n",
       "      <td>Sporting Goods</td>\n",
       "      <td>2011always-for-you</td>\n",
       "      <td>4.99</td>\n",
       "      <td>US $</td>\n",
       "      <td>1</td>\n",
       "    </tr>\n",
       "    <tr>\n",
       "      <th>3</th>\n",
       "      <td>Mattresses &amp; Pads</td>\n",
       "      <td>lins-bay</td>\n",
       "      <td>1.49</td>\n",
       "      <td>US $</td>\n",
       "      <td>1</td>\n",
       "    </tr>\n",
       "    <tr>\n",
       "      <th>4</th>\n",
       "      <td>Cots</td>\n",
       "      <td>rugweavers101</td>\n",
       "      <td>14.99</td>\n",
       "      <td>C $</td>\n",
       "      <td>1</td>\n",
       "    </tr>\n",
       "  </tbody>\n",
       "</table>\n",
       "</div>"
      ],
      "text/plain": [
       "             Keyword         seller name  Price Currency  2018-07-15\n",
       "0      Sleeping Bags  xianghuietchco.ltd   8.99     US $           1\n",
       "1  Mattresses & Pads         klcollins23   4.99     US $           1\n",
       "2     Sporting Goods  2011always-for-you   4.99     US $           1\n",
       "3  Mattresses & Pads            lins-bay   1.49     US $           1\n",
       "4               Cots       rugweavers101  14.99      C $           1"
      ]
     },
     "execution_count": 51,
     "metadata": {},
     "output_type": "execute_result"
    }
   ],
   "source": [
    "item_availability"
   ]
  },
  {
   "cell_type": "code",
   "execution_count": 40,
   "metadata": {},
   "outputs": [
    {
     "data": {
      "text/plain": [
       "'2018-07-15 17:58:34.529089'"
      ]
     },
     "execution_count": 40,
     "metadata": {},
     "output_type": "execute_result"
    }
   ],
   "source": [
    "str(datetime.now())"
   ]
  },
  {
   "cell_type": "code",
   "execution_count": 45,
   "metadata": {},
   "outputs": [
    {
     "data": {
      "text/plain": [
       "datetime.date(2018, 7, 15)"
      ]
     },
     "execution_count": 45,
     "metadata": {},
     "output_type": "execute_result"
    }
   ],
   "source": [
    "date.today()"
   ]
  },
  {
   "cell_type": "code",
   "execution_count": null,
   "metadata": {},
   "outputs": [],
   "source": []
  }
 ],
 "metadata": {
  "kernelspec": {
   "display_name": "Python 3",
   "language": "python",
   "name": "python3"
  },
  "language_info": {
   "codemirror_mode": {
    "name": "ipython",
    "version": 3
   },
   "file_extension": ".py",
   "mimetype": "text/x-python",
   "name": "python",
   "nbconvert_exporter": "python",
   "pygments_lexer": "ipython3",
   "version": "3.6.4"
  }
 },
 "nbformat": 4,
 "nbformat_minor": 2
}
